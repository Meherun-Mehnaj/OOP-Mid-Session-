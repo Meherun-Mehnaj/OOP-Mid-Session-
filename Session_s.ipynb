{
  "cells": [
    {
      "cell_type": "markdown",
      "id": "56c1e15f",
      "metadata": {
        "id": "56c1e15f"
      },
      "source": [
        "### **Meherun Mehnaj Miti**\n",
        "##### Batch 233"
      ]
    },
    {
      "cell_type": "markdown",
      "id": "a7d7a6f3",
      "metadata": {},
      "source": [
        "#### **Recording, Slide Links and other sources:**\n",
        "\n",
        "**Recording:** https://drive.google.com/file/d/1WjkOKUrvoJ--quzPi0kPbkvV8aK9ZHwF/view?usp=sharing\n",
        "\n",
        "**Slide:** https://drive.google.com/file/d/1rDvbIx51quraJAQqhVEHSiIHz4SJzewO/view?usp=drive_link\n",
        "\n",
        "**WhiteBoard Note:** https://drive.google.com/file/d/1fXhzJUV9WbQ3fqTVZtZMq1Ht4V7cBgQK/view?usp=drive_link\n",
        "\n",
        "**Practice Questions:** \n",
        "\n",
        "https://www.w3resource.com/python-exercises/oop/index.php\n",
        "\n",
        "https://drive.google.com/file/d/1-tPXj9o9_d9sFnaDBkqKqlHBk_gQc0YY/view?usp=drive_link"
      ]
    },
    {
      "cell_type": "markdown",
      "id": "c77102da",
      "metadata": {
        "id": "c77102da"
      },
      "source": [
        "# **OOP Basic Review: Classes and Objects, Shallow Copy and Deep Copy, Inheritance, Polymorphism, Encapsulation, Abstraction.**"
      ]
    },
    {
      "cell_type": "markdown",
      "id": "6b5f6fa5",
      "metadata": {
        "id": "6b5f6fa5"
      },
      "source": [
        "### **Class and Object:**"
      ]
    },
    {
      "cell_type": "markdown",
      "id": "328df91f",
      "metadata": {
        "id": "328df91f"
      },
      "source": [
        "**Definition**\n",
        "**Class:** A blueprint for creating objects. It defines a set of attributes and methods.\n",
        "\n",
        "**Object:** An instance of a class. It represents a specific implementation of the blueprint."
      ]
    },
    {
      "cell_type": "code",
      "execution_count": 1,
      "id": "2d200af2",
      "metadata": {
        "id": "2d200af2"
      },
      "outputs": [
        {
          "name": "stdout",
          "output_type": "stream",
          "text": [
            "Buddy says woof!\n"
          ]
        }
      ],
      "source": [
        "class Dog:\n",
        "    def __init__(self, name, breed):\n",
        "        self.name = name\n",
        "        self.breed = breed\n",
        "\n",
        "    def bark(self):\n",
        "        return f\"{self.name} says woof!\"\n",
        "\n",
        "dog1 = Dog(\"Buddy\", \"Golden Retriever\")\n",
        "print(dog1.bark())\n"
      ]
    },
    {
      "cell_type": "markdown",
      "id": "35a8aa93",
      "metadata": {
        "id": "35a8aa93"
      },
      "source": [
        "**str()**\n",
        "For readable, user-friendly output\n",
        "\n",
        "Used in print() and UIs\n",
        "\n",
        "**repr()**\n",
        "For unambiguous, developer-friendly output\n",
        "\n",
        "Used in debugging, logs, and interactive shells\n",
        "\n",
        "Should ideally look like valid Python code"
      ]
    },
    {
      "cell_type": "markdown",
      "id": "7a919bde",
      "metadata": {
        "id": "7a919bde"
      },
      "source": [
        "If you're implementing a class:\n",
        "\n",
        "Always implement __repr__()\n",
        "\n",
        "Implement __str__() only if you want a custom display string for users\n",
        "\n",
        "Otherwise, str() will fall back to __repr__() automatically\n",
        "\n"
      ]
    },
    {
      "cell_type": "code",
      "execution_count": 2,
      "id": "7706e73b",
      "metadata": {
        "id": "7706e73b"
      },
      "outputs": [
        {
          "name": "stdout",
          "output_type": "stream",
          "text": [
            "'1984' by George Orwell\n"
          ]
        }
      ],
      "source": [
        "class Book:\n",
        "    def __init__(self, title, author):\n",
        "        self.title = title\n",
        "        self.author = author\n",
        "\n",
        "    def __str__(self):\n",
        "        return f\"'{self.title}' by {self.author}\"\n",
        "\n",
        "    def __repr__(self):\n",
        "        return f\"Book(title={self.title}, author={self.author})\"\n",
        "\n",
        "book = Book(\"1984\", \"George Orwell\")\n",
        "\n",
        "book #only called the object\n",
        "\n",
        "print(book)\n"
      ]
    },
    {
      "cell_type": "markdown",
      "id": "0635b5b0",
      "metadata": {
        "id": "0635b5b0"
      },
      "source": [
        "### **Shallow Copy and Deep Copy:**"
      ]
    },
    {
      "cell_type": "markdown",
      "id": "5536bc50",
      "metadata": {
        "id": "5536bc50"
      },
      "source": [
        "**Shallow Copy:** A shallow copy creates a new object, but does not copy nested objects. Instead, it copies the references to the nested objects.\n",
        "\n",
        "**Explanation:**\n",
        "Changes made to nested (mutable) objects in the copy will reflect in the original because both point to the **same inner objects**."
      ]
    },
    {
      "cell_type": "markdown",
      "id": "fe5d2b41",
      "metadata": {},
      "source": [
        "**Links:**\n",
        "\n",
        "https://medium.com/@stolzmo/understanding-shallow-and-deep-copies-in-python-36b53729c5a4\n",
        "\n",
        "https://www.geeksforgeeks.org/copy-python-deep-copy-shallow-copy/?ref=header_outind\n",
        "\n",
        "https://www.youtube.com/watch?v=J6dVF_0kWPg\n",
        "\n"
      ]
    },
    {
      "cell_type": "code",
      "execution_count": 3,
      "id": "86e986a6",
      "metadata": {
        "id": "86e986a6",
        "outputId": "2260b6c4-8df7-4924-ddc6-fb3e1a269ee3"
      },
      "outputs": [
        {
          "name": "stdout",
          "output_type": "stream",
          "text": [
            "UIU\n",
            "United International University\n"
          ]
        }
      ],
      "source": [
        "class A:\n",
        "    pass\n",
        "\n",
        "a=A()\n",
        "a.name=\"UIU\"\n",
        "\n",
        "b=a\n",
        "print(b.name) # UIU\n",
        "\n",
        "b.name=\"United International University\"\n",
        "print(a.name) # United International University\n",
        "\n",
        "\n",
        "\n",
        "#Basically b indicates towards a."
      ]
    },
    {
      "cell_type": "code",
      "execution_count": 4,
      "id": "181d6e12",
      "metadata": {
        "id": "181d6e12",
        "outputId": "92007241-6e00-4990-df99-532da05cbd7f"
      },
      "outputs": [
        {
          "name": "stdout",
          "output_type": "stream",
          "text": [
            "[[99, 2], [3, 4]]\n"
          ]
        }
      ],
      "source": [
        "import copy\n",
        "\n",
        "list1 = [[1, 2], [3, 4]]\n",
        "list2 = copy.copy(list1)  # Shallow copy\n",
        "\n",
        "list2[0][0] = 99\n",
        "print(list1)  # [[99, 2], [3, 4]] → list1 changed!\n"
      ]
    },
    {
      "cell_type": "markdown",
      "id": "5b844c1d",
      "metadata": {
        "id": "5b844c1d"
      },
      "source": [
        "**Deep Copy:** A deep copy creates a new object and recursively copies all nested objects, so the copy is completely independent.\n",
        "\n",
        "**Keyword = Independent**\n",
        "\n",
        "**Explanation:**\n",
        "Changes made to the deep copy do not affect the original, even for nested structures."
      ]
    },
    {
      "cell_type": "code",
      "execution_count": 5,
      "id": "ea5157e2",
      "metadata": {
        "id": "ea5157e2"
      },
      "outputs": [
        {
          "name": "stdout",
          "output_type": "stream",
          "text": [
            "[[1, 2], [3, 4]]\n"
          ]
        }
      ],
      "source": [
        "import copy\n",
        "\n",
        "list1 = [[1, 2], [3, 4]]\n",
        "list2 = copy.deepcopy(list1)\n",
        "\n",
        "list2[0][0] = 99\n",
        "print(list1)  # [[1, 2], [3, 4]] → original untouched\n"
      ]
    },
    {
      "cell_type": "code",
      "execution_count": 6,
      "id": "11277a78",
      "metadata": {
        "id": "11277a78",
        "outputId": "662690c0-67c7-4b44-fdfd-7f61d6722115"
      },
      "outputs": [
        {
          "name": "stdout",
          "output_type": "stream",
          "text": [
            "Original: Person(name=Alice, hobbies=['Reading', 'Gaming', 'Cooking'])\n",
            "Shallow Copy: Person(name=Alice, hobbies=['Reading', 'Gaming', 'Cooking'])\n",
            "Deep Copy: Person(name=Alice, hobbies=['Reading', 'Gaming', 'Cooking', 'Swimming'])\n"
          ]
        }
      ],
      "source": [
        "import copy\n",
        "\n",
        "class Person:\n",
        "    def __init__(self, name, hobbies):\n",
        "        self.name = name\n",
        "        self.hobbies = hobbies  # This is a mutable list\n",
        "\n",
        "    def __repr__(self):\n",
        "        return f\"Person(name={self.name}, hobbies={self.hobbies})\"\n",
        "\n",
        "# Original object\n",
        "person1 = Person(\"Alice\", [\"Reading\", \"Gaming\"])\n",
        "\n",
        "# Shallow Copy\n",
        "person2 = copy.copy(person1) #Or person2=person1\n",
        "person2.hobbies.append(\"Cooking\")\n",
        "\n",
        "# Deep Copy\n",
        "person3 = copy.deepcopy(person1)\n",
        "person3.hobbies.append(\"Swimming\")\n",
        "\n",
        "print(\"Original:\", person1)\n",
        "print(\"Shallow Copy:\", person2)\n",
        "print(\"Deep Copy:\", person3)\n"
      ]
    },
    {
      "cell_type": "markdown",
      "id": "6b569d14",
      "metadata": {
        "id": "6b569d14"
      },
      "source": [
        "### **4 Fundamentals of OOP**"
      ]
    },
    {
      "cell_type": "markdown",
      "id": "a24e314d",
      "metadata": {
        "id": "a24e314d"
      },
      "source": [
        "## **Inheritance**"
      ]
    },
    {
      "cell_type": "markdown",
      "id": "21d5053d",
      "metadata": {
        "id": "21d5053d"
      },
      "source": [
        "**Parent Class:** Base functionality.\n",
        "\n",
        "**Child Class:** Extends/overrides parent methods"
      ]
    },
    {
      "cell_type": "markdown",
      "id": "d2d98faa",
      "metadata": {
        "id": "d2d98faa"
      },
      "source": [
        "**What is super()?**\n",
        "\n",
        "super() lets you call methods from the parent class inside a child class.\n",
        "\n",
        "It’s mostly used to:\n",
        "\n",
        "Initialize the parent (__init__)\n",
        "\n",
        "Reuse code from the parent method"
      ]
    },
    {
      "cell_type": "code",
      "execution_count": 9,
      "id": "d71ef6cf",
      "metadata": {
        "id": "d71ef6cf",
        "outputId": "a05db3bc-4f4d-4a55-82fa-63bed537eafa"
      },
      "outputs": [
        {
          "name": "stdout",
          "output_type": "stream",
          "text": [
            "I am Harry from None house.\n"
          ]
        }
      ],
      "source": [
        "#Calls Attributes from parent class\n",
        "import copy\n",
        "class Wizard:\n",
        "    def __init__(self, name, house=None):\n",
        "        self.name = name\n",
        "        self.house = house\n",
        "\n",
        "    def intro(self):\n",
        "        print(f\"I am {self.name} from {self.house} house.\")\n",
        "\n",
        "\n",
        "class HarryPotter(Wizard):\n",
        "    def __init__(self, name):\n",
        "        super().__init__(name)  \n",
        "        \n",
        "                       # call parent constructor\n",
        "class Hermione(Wizard):\n",
        "    def __init__(self, name):\n",
        "        super().__init__(name)  # call parent constructor\n",
        "\n",
        "harry = HarryPotter(\"Harry\")\n",
        "harry.intro()\n",
        "# hermione=Hermione(\"hh\")\n",
        "\n",
        "# ron=copy.deepcopy(hermione)"
      ]
    },
    {
      "cell_type": "code",
      "execution_count": 10,
      "id": "028ab919",
      "metadata": {
        "id": "028ab919",
        "outputId": "41c690d8-1e8c-452f-f433-ce919807375e"
      },
      "outputs": [
        {
          "name": "stdout",
          "output_type": "stream",
          "text": [
            "It uses a generic attack!\n",
            "Pikachu uses Thunderbolt!\n"
          ]
        }
      ],
      "source": [
        "#Calls functions from parent class\n",
        "\n",
        "\n",
        "class Pokemon:\n",
        "    def attack(self):\n",
        "        print(\"It uses a generic attack!\")\n",
        "\n",
        "class Pikachu(Pokemon):\n",
        "    def attack(self):\n",
        "        super().attack()  # call the parent method\n",
        "        print(\"Pikachu uses Thunderbolt!\")\n",
        "\n",
        "p = Pikachu()\n",
        "p.attack()\n"
      ]
    },
    {
      "cell_type": "markdown",
      "id": "7e30e39a",
      "metadata": {
        "id": "7e30e39a"
      },
      "source": [
        "### **Multiple Inheritance**"
      ]
    },
    {
      "cell_type": "markdown",
      "id": "4ba3dd5d",
      "metadata": {
        "id": "4ba3dd5d"
      },
      "source": [
        "    \n",
        "    The Diamond Problem\n",
        "    \n",
        "        A\n",
        "       / \\\n",
        "      B   C\n",
        "       \\ /\n",
        "        D\n"
      ]
    },
    {
      "cell_type": "code",
      "execution_count": 11,
      "id": "130ac90a",
      "metadata": {
        "id": "130ac90a"
      },
      "outputs": [
        {
          "name": "stdout",
          "output_type": "stream",
          "text": [
            "Speaking from B\n"
          ]
        }
      ],
      "source": [
        "class A:\n",
        "    def speak(self):\n",
        "        print(\"Speaking from A\")\n",
        "\n",
        "class B(A):\n",
        "    def speak(self):\n",
        "        print(\"Speaking from B\")\n",
        "\n",
        "class C(A):\n",
        "    def speak(self):\n",
        "        print(\"Speaking from C\")\n",
        "\n",
        "class D(B, C):\n",
        "    pass\n",
        "\n",
        "d = D()\n",
        "d.speak()  # Who does D listen to?\n",
        "# print(D.__mro__)"
      ]
    },
    {
      "cell_type": "code",
      "execution_count": 12,
      "id": "96e19125",
      "metadata": {},
      "outputs": [
        {
          "name": "stdout",
          "output_type": "stream",
          "text": [
            "Speaking from B\n"
          ]
        }
      ],
      "source": [
        "class A:\n",
        "    def speak(self):\n",
        "        print(\"Speaking from A\")\n",
        "\n",
        "class B(A):\n",
        "    def speak(self):\n",
        "        print(\"Speaking from B\")\n",
        "    \n",
        "class C(B):                   #Priority when C has funtions of its own : C->B->A\n",
        "    # def speak(self):\n",
        "    #     print(\"Speaking from C\")\n",
        "    pass\n",
        "    \n",
        "\n",
        "c=C()\n",
        "c.speak()\n",
        "\n",
        "# class D(B, C):\n",
        "#     pass\n",
        "\n",
        "# d = D()\n",
        "# d.speak()  # Who does D listen to?\n",
        "# # print(D.__mro__)  "
      ]
    },
    {
      "cell_type": "markdown",
      "id": "4b3c672f",
      "metadata": {
        "id": "4b3c672f"
      },
      "source": [
        "### **Abstract Method**"
      ]
    },
    {
      "cell_type": "markdown",
      "id": "e5ef0777",
      "metadata": {},
      "source": [
        "Forces other classes to have the same function and overwrite it if needed. "
      ]
    },
    {
      "cell_type": "code",
      "execution_count": 15,
      "id": "5565fcce",
      "metadata": {
        "id": "5565fcce"
      },
      "outputs": [
        {
          "data": {
            "text/plain": [
              "'Fawkes, to me! 🔥'"
            ]
          },
          "execution_count": 15,
          "metadata": {},
          "output_type": "execute_result"
        }
      ],
      "source": [
        "from abc import ABC, abstractmethod\n",
        "\n",
        "# Abstract Base Class\n",
        "class SpellCaster(ABC):\n",
        "    @abstractmethod\n",
        "    def cast_spell(self):\n",
        "        pass\n",
        "\n",
        "# Concrete class: Harry\n",
        "class HarryPotter(SpellCaster):\n",
        "    def cast_spell(self):\n",
        "        return \"Expelliarmus!\"\n",
        "\n",
        "# Concrete class: Dumbledore\n",
        "class Dumbledore(SpellCaster):\n",
        "    def cast_spell(self):\n",
        "        return \"Fawkes, to me! 🔥\"\n",
        "\n",
        "# Concrete class: Voldemort\n",
        "class Voldemort(SpellCaster):\n",
        "    def cast_spell(self):\n",
        "        return \"Avada Kedavra!\"\n",
        "\n",
        "\n",
        "\n",
        "harry = HarryPotter()\n",
        "dumbledore = Dumbledore()\n",
        "voldemort = Voldemort()\n",
        "\n",
        "dumbledore.cast_spell()\n"
      ]
    },
    {
      "cell_type": "markdown",
      "id": "52622f96",
      "metadata": {
        "id": "52622f96"
      },
      "source": [
        "### **Encapsulation**"
      ]
    },
    {
      "cell_type": "markdown",
      "id": "cd4de971",
      "metadata": {
        "id": "cd4de971"
      },
      "source": [
        "**ENCAPSULATION** — \"What Happens in the Object, Stays in the Object\"\n",
        "\n",
        "Encapsulation is like putting data (variables) and the code (methods) that works on that data inside one container, and locking it up!\n",
        "This container is called a **class.**"
      ]
    },
    {
      "cell_type": "code",
      "execution_count": 16,
      "id": "509776b3",
      "metadata": {
        "id": "509776b3"
      },
      "outputs": [
        {
          "name": "stdout",
          "output_type": "stream",
          "text": [
            "Fluffy says: Meow! I'm totally not hiding my age 😼\n",
            "Fluffy's secret age is 3. Don't tell anyone!\n",
            "Fluffy had a birthday but shhh... now 4 years old.\n",
            "Fluffy had a birthday but shhh... now 5 years old.\n",
            "Fluffy had a birthday but shhh... now 6 years old.\n",
            "Fluffy had a birthday but shhh... now 7 years old.\n",
            "Fluffy's secret age is 7. Don't tell anyone!\n"
          ]
        }
      ],
      "source": [
        "class SecretCat:\n",
        "    def __init__(self, name, age):\n",
        "        self.name = name              # public\n",
        "        self.__age = age              # private \n",
        "\n",
        "    def meow(self):\n",
        "        print(f\"{self.name} says: Meow! I'm totally not hiding my age 😼\")\n",
        "\n",
        "    def reveal_age(self):\n",
        "        print(f\"{self.name}'s secret age is {self.__age}. Don't tell anyone!\")\n",
        "\n",
        "    def have_birthday(self):\n",
        "        self.__age += 1\n",
        "        print(f\"{self.name} had a birthday but shhh... now {self.__age} years old.\")\n",
        "\n",
        "# Create a cat\n",
        "fluffy = SecretCat(\"Fluffy\", 3)\n",
        "\n",
        "fluffy.meow()\n",
        "fluffy.reveal_age()\n",
        "fluffy.have_birthday()\n",
        "fluffy.have_birthday()\n",
        "fluffy.have_birthday()\n",
        "fluffy.have_birthday()\n",
        "\n",
        "fluffy.reveal_age()\n",
        "# print(fluffy.__age)  \n"
      ]
    },
    {
      "cell_type": "code",
      "execution_count": 17,
      "id": "8b2e24c8",
      "metadata": {
        "id": "8b2e24c8"
      },
      "outputs": [
        {
          "name": "stdout",
          "output_type": "stream",
          "text": [
            "5500\n"
          ]
        }
      ],
      "source": [
        "class BankAccount:\n",
        "    def __init__(self, owner, balance):\n",
        "        self.owner = owner\n",
        "        self.__balance = balance  # private\n",
        "\n",
        "    def deposit(self, amount):\n",
        "        if amount > 0:\n",
        "            self.__balance += amount\n",
        "\n",
        "    def withdraw(self, amount):\n",
        "        if amount <= self.__balance:\n",
        "            self.__balance -= amount\n",
        "        else:\n",
        "            print(\"Insufficient funds\")\n",
        "\n",
        "    def get_balance(self):\n",
        "        return self.__balance\n",
        "\n",
        "\n",
        "acc = BankAccount(\"Miti\", 5000)\n",
        "acc.deposit(1500)\n",
        "acc.withdraw(1000)\n",
        "print(acc.get_balance())\n",
        "\n"
      ]
    },
    {
      "cell_type": "markdown",
      "id": "3cf0f5fa",
      "metadata": {
        "id": "3cf0f5fa"
      },
      "source": [
        "### **POLYMORPHISM**"
      ]
    },
    {
      "cell_type": "markdown",
      "id": "8e554a24",
      "metadata": {
        "id": "8e554a24"
      },
      "source": [
        "**POLYMORPHISM** — \"Same Interface, Different Magic\"\n",
        "\n",
        "Polymorphism means \"many forms\". You use the same method name, but different classes implement it differently.\n",
        "\n",
        "Think of it like:\n",
        "\n",
        "Everyone says \"make_sound()\", but a dog barks, a cat meows, and a duck quacks.\n",
        "\n"
      ]
    },
    {
      "cell_type": "code",
      "execution_count": 18,
      "id": "101e91f3",
      "metadata": {
        "id": "101e91f3",
        "outputId": "23657df8-2cdd-4d36-f2bf-5c58305d534e"
      },
      "outputs": [
        {
          "name": "stdout",
          "output_type": "stream",
          "text": [
            "Dog: Woof woof! 🐶\n",
            "Cat: Meowww~ 🐱\n",
            "Duck: Quack quack! 🦆\n"
          ]
        }
      ],
      "source": [
        "class Animal:\n",
        "    def make_sound(self):\n",
        "        raise NotImplementedError(\"Every animal must have a unique voice!\")\n",
        "\n",
        "class Dog(Animal):\n",
        "    def make_sound(self):\n",
        "        print(\"Dog: Woof woof! 🐶\")\n",
        "\n",
        "class Cat(Animal):\n",
        "    def make_sound(self):\n",
        "        print(\"Cat: Meowww~ 🐱\")\n",
        "\n",
        "class Duck(Animal):\n",
        "    def make_sound(self):\n",
        "        print(\"Duck: Quack quack! 🦆\")\n",
        "\n",
        "def perform_sound(animal):\n",
        "    animal.make_sound()\n",
        "\n",
        "\n",
        "participants = [Dog(), Cat(), Duck()]\n",
        "\n",
        "for a in participants:\n",
        "    perform_sound(a)\n"
      ]
    },
    {
      "cell_type": "markdown",
      "id": "818b2fe7",
      "metadata": {
        "id": "818b2fe7"
      },
      "source": [
        "### **Advanced OOP Techniques (Operator Overloading)**"
      ]
    },
    {
      "cell_type": "markdown",
      "id": "b994abe1",
      "metadata": {
        "id": "b994abe1"
      },
      "source": [
        "https://www.codespeedy.com/operator-overloading-in-python/"
      ]
    },
    {
      "cell_type": "code",
      "execution_count": null,
      "id": "1e18ae9b",
      "metadata": {
        "vscode": {
          "languageId": "html"
        }
      },
      "outputs": [],
      "source": [
        "'__add__', '__str__', '__repr__', '__eq__', '__ne__', '__lt__', '__le__', '__gt__'"
      ]
    },
    {
      "cell_type": "code",
      "execution_count": 19,
      "id": "8434776d",
      "metadata": {
        "id": "8434776d",
        "outputId": "5cf89e18-abcc-479d-fe49-d0582a26ba14"
      },
      "outputs": [
        {
          "name": "stdout",
          "output_type": "stream",
          "text": [
            "Price: 10\n"
          ]
        }
      ],
      "source": [
        "class Toy:\n",
        "    def __init__(self,price):\n",
        "        self.price = price\n",
        "    def __add__(self,other):\n",
        "        return Toy(self.price * other.price)\n",
        "\n",
        "    def __mul__(self,other):\n",
        "        return Toy(self.price - other.price)\n",
        "    def __str__(self):\n",
        "        return f\"Price: {self.price}\"\n",
        "\n",
        "t1=Toy(12)\n",
        "t2=Toy(2)\n",
        "# total_price=t1+t2\n",
        "total_price=t1*t2\n",
        "print(total_price)"
      ]
    },
    {
      "cell_type": "code",
      "execution_count": 20,
      "id": "14b9f724",
      "metadata": {
        "id": "14b9f724"
      },
      "outputs": [
        {
          "name": "stdout",
          "output_type": "stream",
          "text": [
            "True\n"
          ]
        }
      ],
      "source": [
        "class Banana:\n",
        "    def __init__(self, size):\n",
        "        self.size = size\n",
        "\n",
        "    def __eq__(self, other):\n",
        "        return self.size == other.size\n",
        "\n",
        "b1 = Banana(7)\n",
        "b2 = Banana(7)\n",
        "print(b1 == b2)  # True\n"
      ]
    },
    {
      "cell_type": "markdown",
      "id": "847ffc1a",
      "metadata": {
        "id": "847ffc1a"
      },
      "source": [
        "# **Tracing**"
      ]
    },
    {
      "cell_type": "code",
      "execution_count": 21,
      "id": "28c25599",
      "metadata": {
        "id": "28c25599"
      },
      "outputs": [],
      "source": [
        "class A:\n",
        "    def __init__(self, a, b):  # constructor\n",
        "        self.a = a\n",
        "        self.b = b\n",
        "\n",
        "    def copy(self):  # returns a copy (new object)\n",
        "        return A(self.a, self.b)\n",
        "\n",
        "    def __str__(self):  # string representation\n",
        "        return f\"({self.a},{self.b})\"\n",
        "\n",
        "    def multiply(self, n):  # multiplies both values\n",
        "        self.a *= n\n",
        "        self.b *= n\n",
        "s1 = A(12, 13)  # s1 = (12,13)\n",
        "s2 = s1         # s2 points to same object as s1\n",
        "s3 = s2.copy()  # s3 = new object with (12,13)\n",
        "\n",
        "s1.multiply(2)  # s1: (24, 26), s2 also (24, 26) because it's the same object\n",
        "s2.multiply(2)  # s2: (48, 52), s1 also becomes (48, 52)\n",
        "\n",
        "s3.multiply(2)  # s3: (24, 26), separate object\n"
      ]
    },
    {
      "cell_type": "markdown",
      "id": "7fb5fcb2",
      "metadata": {
        "id": "7fb5fcb2"
      },
      "source": [
        "\n",
        "\n",
        "s1: (48, 52)\n",
        "\n",
        "s2: (48, 52) → same as s1\n",
        "\n",
        "s3: (24, 26) → separate copy\n",
        "\n"
      ]
    },
    {
      "cell_type": "markdown",
      "id": "ec05012a",
      "metadata": {
        "id": "ec05012a"
      },
      "source": [
        "(48,52) (48,52) (24,26)\n"
      ]
    }
  ],
  "metadata": {
    "colab": {
      "provenance": []
    },
    "kernelspec": {
      "display_name": "base",
      "language": "python",
      "name": "python3"
    },
    "language_info": {
      "codemirror_mode": {
        "name": "ipython",
        "version": 3
      },
      "file_extension": ".py",
      "mimetype": "text/x-python",
      "name": "python",
      "nbconvert_exporter": "python",
      "pygments_lexer": "ipython3",
      "version": "3.12.4"
    }
  },
  "nbformat": 4,
  "nbformat_minor": 5
}
